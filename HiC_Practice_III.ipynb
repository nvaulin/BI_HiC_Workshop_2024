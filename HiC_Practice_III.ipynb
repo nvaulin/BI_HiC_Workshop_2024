{
 "cells": [
  {
   "cell_type": "code",
   "execution_count": 3,
   "id": "8627315f-ad62-4e85-bcf0-a0e7c7ff7316",
   "metadata": {},
   "outputs": [],
   "source": [
    "import os\n",
    "\n",
    "import pandas as pd\n",
    "import numpy as np\n",
    "import matplotlib.pyplot as plt\n",
    "import seaborn as sns\n",
    "\n",
    "import cooler\n",
    "import cooltools"
   ]
  },
  {
   "cell_type": "markdown",
   "id": "ed9516aa-f87e-42c1-8697-c67926183d54",
   "metadata": {},
   "source": [
    "# Интерактивный просмотр карт"
   ]
  },
  {
   "cell_type": "code",
   "execution_count": 4,
   "id": "c71efa6b-2d0e-499d-9409-adb270053b41",
   "metadata": {},
   "outputs": [],
   "source": [
    "import higlass as hg"
   ]
  },
  {
   "cell_type": "code",
   "execution_count": 4,
   "id": "9cefade4-1ca6-4016-85e4-7e92d4d09e66",
   "metadata": {},
   "outputs": [
    {
     "data": {
      "text/html": [
       "\n",
       "<!DOCTYPE html>\n",
       "<html>\n",
       "  <head>\n",
       "    <link rel=\"stylesheet\" href=\"https://esm.sh/higlass@1.12/dist/hglib.css\">\n",
       "    <script src=\"https://unpkg.com/requirejs-toggle\"></script>\n",
       "    \n",
       "    <script src=\"https://unpkg.com/requirejs-toggle\"></script>\n",
       "  </head>\n",
       "  <body>\n",
       "    <div id=\"jupyter-hg-bf362157accd40598577e7183cabb6bc\"></div>\n",
       "  </body>\n",
       "  <script type=\"module\">\n",
       "    import hglib from \"https://esm.sh/higlass@1.12?deps=react@17,react-dom@17,pixi.js@6\";\n",
       "    hglib.viewer(\n",
       "      document.getElementById('jupyter-hg-bf362157accd40598577e7183cabb6bc'),\n",
       "      {\"editable\": true, \"viewEditable\": true, \"tracksEditable\": true, \"views\": [{\"layout\": {\"x\": 0, \"y\": 0, \"w\": 4, \"h\": 6}, \"tracks\": {\"center\": [{\"tilesetUid\": \"CQMd6V_cRw6iCI_-Unl3PQ\", \"server\": \"https://higlass.io/api/v1\", \"type\": \"heatmap\", \"uid\": \"c7c6fd5d-5f4e-4440-8ad0-5ab8e0ef9256\", \"height\": 300, \"options\": {\"name\": \"Rao et al. (2014) GM12878 MboI (allreps) 1kb\"}}]}, \"uid\": \"84e43302-1a30-4c0d-a813-348ca5eb9b10\", \"initialXDomain\": [70000000.0, 80000000.0], \"zoomLimits\": [1.0, null]}, {\"layout\": {\"x\": 4, \"y\": 0, \"w\": 4, \"h\": 6}, \"tracks\": {\"center\": [{\"type\": \"heatmap\", \"uid\": \"01fe5ec8-ed92-422b-88ae-bafb43089ec7\", \"height\": 300, \"options\": {\"name\": \"Rao et al. (2014) GM12878 MboI (allreps) 1kb\", \"colorRange\": [\"blue\", \"white\", \"red\"], \"valueScaleMin\": 0.1, \"valueScaleMax\": 10}, \"data\": {\"type\": \"divided\", \"children\": [{\"tilesetUid\": \"CQMd6V_cRw6iCI_-Unl3PQ\", \"server\": \"https://higlass.io/api/v1\"}, {\"tilesetUid\": \"QvdMEvccQuOxKTEjrVL3wA\", \"server\": \"https://higlass.io/api/v1\"}]}}]}, \"uid\": \"ef3cac7c-ddb3-4825-851d-83c842b07bb6\", \"initialXDomain\": [70000000.0, 80000000.0], \"zoomLimits\": [1.0, null]}, {\"layout\": {\"x\": 8, \"y\": 0, \"w\": 4, \"h\": 6}, \"tracks\": {\"center\": [{\"tilesetUid\": \"QvdMEvccQuOxKTEjrVL3wA\", \"server\": \"https://higlass.io/api/v1\", \"type\": \"heatmap\", \"uid\": \"8dff47e1-99c9-4206-9961-89a7c555de07\", \"height\": 300, \"options\": {\"name\": \"Rao et al. (2014) IMR90 MboI (allreps) 1kb\"}}]}, \"uid\": \"fe70c2cb-9551-41e9-bc01-28025f9c63b0\", \"initialXDomain\": [70000000.0, 80000000.0], \"zoomLimits\": [1.0, null]}], \"zoomLocks\": {\"locksByViewUid\": {\"84e43302-1a30-4c0d-a813-348ca5eb9b10\": \"4101c6c9-a720-4cc5-89a5-6673bcd84efe\", \"fe70c2cb-9551-41e9-bc01-28025f9c63b0\": \"4101c6c9-a720-4cc5-89a5-6673bcd84efe\", \"ef3cac7c-ddb3-4825-851d-83c842b07bb6\": \"4101c6c9-a720-4cc5-89a5-6673bcd84efe\"}, \"locksDict\": {\"4101c6c9-a720-4cc5-89a5-6673bcd84efe\": {\"uid\": \"4101c6c9-a720-4cc5-89a5-6673bcd84efe\", \"84e43302-1a30-4c0d-a813-348ca5eb9b10\": [1.0, 1.0, 1.0], \"fe70c2cb-9551-41e9-bc01-28025f9c63b0\": [1.0, 1.0, 1.0], \"ef3cac7c-ddb3-4825-851d-83c842b07bb6\": [1.0, 1.0, 1.0]}}}, \"locationLocks\": {\"locksByViewUid\": {\"84e43302-1a30-4c0d-a813-348ca5eb9b10\": \"4101c6c9-a720-4cc5-89a5-6673bcd84efe\", \"fe70c2cb-9551-41e9-bc01-28025f9c63b0\": \"4101c6c9-a720-4cc5-89a5-6673bcd84efe\", \"ef3cac7c-ddb3-4825-851d-83c842b07bb6\": \"4101c6c9-a720-4cc5-89a5-6673bcd84efe\"}, \"locksDict\": {\"4101c6c9-a720-4cc5-89a5-6673bcd84efe\": {\"uid\": \"4101c6c9-a720-4cc5-89a5-6673bcd84efe\", \"84e43302-1a30-4c0d-a813-348ca5eb9b10\": [1.0, 1.0, 1.0], \"fe70c2cb-9551-41e9-bc01-28025f9c63b0\": [1.0, 1.0, 1.0], \"ef3cac7c-ddb3-4825-851d-83c842b07bb6\": [1.0, 1.0, 1.0]}}}, \"valueScaleLocks\": {\"locksByViewUid\": {}, \"locksDict\": {}}},\n",
       "    );\n",
       "    </script>\n",
       "</html>"
      ],
      "text/plain": [
       "Viewconf(editable=True, viewEditable=True, tracksEditable=True, zoomFixed=None, compactLayout=None, exportViewUrl=None, trackSourceServers=None, views=[View(layout=Layout(x=0, y=0, w=4, h=6, moved=None, static=None), tracks=Tracks[TrackT](left=None, right=None, top=None, bottom=None, center=[HeatmapTrack(tilesetUid='CQMd6V_cRw6iCI_-Unl3PQ', server='https://higlass.io/api/v1', type='heatmap', uid='c7c6fd5d-5f4e-4440-8ad0-5ab8e0ef9256', width=None, height=300, options={'name': 'Rao et al. (2014) GM12878 MboI (allreps) 1kb'}, data=None, position=None, transforms=None)], whole=None, gallery=None), uid='84e43302-1a30-4c0d-a813-348ca5eb9b10', autocompleteSource=None, chromInfoPath=None, genomePositionSearchBox=None, genomePositionSearchBoxVisible=None, initialXDomain=(70000000.0, 80000000.0), initialYDomain=None, overlays=None, selectionView=None, zoomFixed=None, zoomLimits=(1.0, None)), View(layout=Layout(x=4, y=0, w=4, h=6, moved=None, static=None), tracks=Tracks[TrackT](left=None, right=None, top=None, bottom=None, center=[HeatmapTrack(tilesetUid=None, server=None, type='heatmap', uid='01fe5ec8-ed92-422b-88ae-bafb43089ec7', width=None, height=300, options={'name': 'Rao et al. (2014) GM12878 MboI (allreps) 1kb', 'colorRange': ['blue', 'white', 'red'], 'valueScaleMin': 0.1, 'valueScaleMax': 10}, data=Data(type='divided', url=None, server=None, filetype=None, children=[{'tilesetUid': 'CQMd6V_cRw6iCI_-Unl3PQ', 'server': 'https://higlass.io/api/v1'}, {'tilesetUid': 'QvdMEvccQuOxKTEjrVL3wA', 'server': 'https://higlass.io/api/v1'}], tilesetInfo=None, tiles=None), position=None, transforms=None)], whole=None, gallery=None), uid='ef3cac7c-ddb3-4825-851d-83c842b07bb6', autocompleteSource=None, chromInfoPath=None, genomePositionSearchBox=None, genomePositionSearchBoxVisible=None, initialXDomain=(70000000.0, 80000000.0), initialYDomain=None, overlays=None, selectionView=None, zoomFixed=None, zoomLimits=(1.0, None)), View(layout=Layout(x=8, y=0, w=4, h=6, moved=None, static=None), tracks=Tracks[TrackT](left=None, right=None, top=None, bottom=None, center=[HeatmapTrack(tilesetUid='QvdMEvccQuOxKTEjrVL3wA', server='https://higlass.io/api/v1', type='heatmap', uid='8dff47e1-99c9-4206-9961-89a7c555de07', width=None, height=300, options={'name': 'Rao et al. (2014) IMR90 MboI (allreps) 1kb'}, data=None, position=None, transforms=None)], whole=None, gallery=None), uid='fe70c2cb-9551-41e9-bc01-28025f9c63b0', autocompleteSource=None, chromInfoPath=None, genomePositionSearchBox=None, genomePositionSearchBoxVisible=None, initialXDomain=(70000000.0, 80000000.0), initialYDomain=None, overlays=None, selectionView=None, zoomFixed=None, zoomLimits=(1.0, None))], zoomLocks=ZoomLocks(locksByViewUid={'84e43302-1a30-4c0d-a813-348ca5eb9b10': '4101c6c9-a720-4cc5-89a5-6673bcd84efe', 'fe70c2cb-9551-41e9-bc01-28025f9c63b0': '4101c6c9-a720-4cc5-89a5-6673bcd84efe', 'ef3cac7c-ddb3-4825-851d-83c842b07bb6': '4101c6c9-a720-4cc5-89a5-6673bcd84efe'}, locksDict={'4101c6c9-a720-4cc5-89a5-6673bcd84efe': Lock(uid='4101c6c9-a720-4cc5-89a5-6673bcd84efe', 84e43302-1a30-4c0d-a813-348ca5eb9b10=(1.0, 1.0, 1.0), fe70c2cb-9551-41e9-bc01-28025f9c63b0=(1.0, 1.0, 1.0), ef3cac7c-ddb3-4825-851d-83c842b07bb6=(1.0, 1.0, 1.0))}), locationLocks=LocationLocks(locksByViewUid={'84e43302-1a30-4c0d-a813-348ca5eb9b10': '4101c6c9-a720-4cc5-89a5-6673bcd84efe', 'fe70c2cb-9551-41e9-bc01-28025f9c63b0': '4101c6c9-a720-4cc5-89a5-6673bcd84efe', 'ef3cac7c-ddb3-4825-851d-83c842b07bb6': '4101c6c9-a720-4cc5-89a5-6673bcd84efe'}, locksDict={'4101c6c9-a720-4cc5-89a5-6673bcd84efe': Lock(uid='4101c6c9-a720-4cc5-89a5-6673bcd84efe', 84e43302-1a30-4c0d-a813-348ca5eb9b10=(1.0, 1.0, 1.0), fe70c2cb-9551-41e9-bc01-28025f9c63b0=(1.0, 1.0, 1.0), ef3cac7c-ddb3-4825-851d-83c842b07bb6=(1.0, 1.0, 1.0))}), valueScaleLocks=ValueScaleLocks(locksByViewUid={}, locksDict={}), chromInfoPath=None)"
      ]
     },
     "execution_count": 4,
     "metadata": {},
     "output_type": "execute_result"
    }
   ],
   "source": [
    "tset1 = hg.remote(\n",
    "    uid=\"CQMd6V_cRw6iCI_-Unl3PQ\",\n",
    "    name=\"Rao et al. (2014) GM12878 MboI (allreps) 1kb\",\n",
    ")\n",
    "\n",
    "tset2 = hg.remote(\n",
    "    uid=\"QvdMEvccQuOxKTEjrVL3wA\",\n",
    "    name=\"Rao et al. (2014) IMR90 MboI (allreps) 1kb\",\n",
    ")\n",
    "\n",
    "t1 = tset1.track(\"heatmap\", height=300)\n",
    "t2 = tset2.track(\"heatmap\", height=300)\n",
    "\n",
    "t3 = hg.divide(t1, t2).opts(\n",
    "    colorRange=[\"blue\", \"white\", \"red\"],\n",
    "    valueScaleMin=0.1,\n",
    "    valueScaleMax=10,\n",
    ")\n",
    "\n",
    "domain = (7e7, 8e7)\n",
    "v1 = hg.view(t1, width=4).domain(x=domain)\n",
    "v2 = hg.view(t2, width=4).domain(x=domain)\n",
    "v3 = hg.view(t3, width=4).domain(x=domain)\n",
    "\n",
    "(v1 | v3 | v2).locks(hg.lock(v1, v2, v3))"
   ]
  }
 ],
 "metadata": {
  "kernelspec": {
   "display_name": "hi-c",
   "language": "python",
   "name": "hi-c"
  },
  "language_info": {
   "codemirror_mode": {
    "name": "ipython",
    "version": 3
   },
   "file_extension": ".py",
   "mimetype": "text/x-python",
   "name": "python",
   "nbconvert_exporter": "python",
   "pygments_lexer": "ipython3",
   "version": "3.10.8"
  }
 },
 "nbformat": 4,
 "nbformat_minor": 5
}
